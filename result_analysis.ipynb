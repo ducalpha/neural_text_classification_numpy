{
 "cells": [
  {
   "cell_type": "code",
   "execution_count": 36,
   "metadata": {},
   "outputs": [
    {
     "name": "stdout",
     "output_type": "stream",
     "text": [
      "Hyperparameter: (100, 0.1)\n",
      "Train accuracy: 0.762989, validation accuracy: 0.752479\n",
      "Hyperparameter: (50, 0.1)\n",
      "Train accuracy: 0.736860, validation accuracy: 0.730393\n",
      "Hyperparameter: (150, 0.1)\n",
      "Train accuracy: 0.759347, validation accuracy: 0.748823\n",
      "Hyperparameter: (200, 0.1)\n",
      "Train accuracy: 0.763872, validation accuracy: 0.754519\n",
      "Hyperparameter: (150, 0.01)\n",
      "Train accuracy: 0.724964, validation accuracy: 0.719566\n",
      "Hyperparameter: (200, 0.01)\n",
      "Train accuracy: 0.728253, validation accuracy: 0.721900\n"
     ]
    }
   ],
   "source": [
    "import re\n",
    "from pathlib import Path\n",
    "import matplotlib as plt\n",
    "import seaborn\n",
    "\n",
    "input_str = Path('result').read_text()\n",
    "\n",
    "mi = re.finditer(r'Model: batch size: 1, input size:405, hidden size: (\\d+), learning rate: (0\\.\\d+)', input_str, flags=re.S)\n",
    "ei = re.finditer(r'Epoch:? (\\d+).*?train_accuracy: (0\\.\\d+), validate_accuracy: (0\\.\\d+), train sent-accu: (0\\.\\d+), (dev|validate) sent-accu: (0\\.\\d+)', input_str, flags=re.S)\n",
    "\n",
    "num_epoch = 5\n",
    "result = dict()\n",
    "\n",
    "result['epoch'] = list(range(num_epoch + 1))\n",
    "\n",
    "for m in mi:\n",
    "    print('Hyperparameter: ({}, {})'.format(m.group(1), m.group(2)))\n",
    "    # result.setdefault(hyper, [])\n",
    "    for i in range(num_epoch + 1):\n",
    "        e = next(ei)\n",
    "    print('Train accuracy: {}, validation accuracy: {}'.format(e.group(2), e.group(3)))\n",
    "        \n",
    "        \n",
    "    "
   ]
  }
 ],
 "metadata": {
  "kernelspec": {
   "display_name": "Python 3",
   "language": "python",
   "name": "python3"
  },
  "language_info": {
   "codemirror_mode": {
    "name": "ipython",
    "version": 3
   },
   "file_extension": ".py",
   "mimetype": "text/x-python",
   "name": "python",
   "nbconvert_exporter": "python",
   "pygments_lexer": "ipython3",
   "version": "3.6.6"
  }
 },
 "nbformat": 4,
 "nbformat_minor": 2
}
